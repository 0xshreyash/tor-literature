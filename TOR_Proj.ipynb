{
 "cells": [
  {
   "cell_type": "code",
   "execution_count": 1,
   "metadata": {
    "collapsed": false
   },
   "outputs": [
    {
     "name": "stdout",
     "output_type": "stream",
     "text": [
      "Optimal value 4.141338540902951\n",
      "Optimal var\n",
      "[[  2.81397541e-09]\n",
      " [  7.35293408e-09]\n",
      " [  1.34642316e-01]\n",
      " [  1.24973703e-01]\n",
      " [  4.83881224e-09]]\n"
     ]
    }
   ],
   "source": [
    "import cvxpy as cvx\n",
    "import numpy\n",
    "\n",
    "# Problem data.\n",
    "m = 10\n",
    "n = 5\n",
    "numpy.random.seed(1)\n",
    "A = numpy.random.randn(m, n)\n",
    "b = numpy.random.randn(m)\n",
    "\n",
    "# Construct the problem.\n",
    "x = cvx.Variable(n)\n",
    "objective = cvx.Minimize(cvx.sum_squares(A*x - b))\n",
    "constraints = [0 <= x, x <= 1]\n",
    "\n",
    "cube_dim = 100\n",
    "valid_points = []\n",
    "\n",
    "num_spheres = 3\n",
    "# Store the centres as (x,y,z) tuples in centres[]\n",
    "centres = []\n",
    "for j in range(num_spheres):\n",
    "    a, b, c = x[3*j], x[3*j+1], x[3*j+2]\n",
    "    centres.append((a, b, c))\n",
    "#quadratic constraint\n",
    "combos = [(0,1), (0,2), (1,2)]\n",
    "for i in range(len(combos)):\n",
    "\n",
    "    \n",
    "for i in [0,3,6]:\n",
    "    \n",
    "\n",
    "\n",
    "\n",
    "\n",
    "\n",
    "#r<=i<=1-r\n",
    "\n",
    "constraints = []\n",
    "\n",
    "prob = cvx.Problem(objective, constraints)\n",
    "\n",
    "print(\"Optimal value\", prob.solve())\n",
    "print(\"Optimal var\")\n",
    "print(x.value) # A numpy ndarray."
   ]
  },
  {
   "cell_type": "code",
   "execution_count": 3,
   "metadata": {
    "collapsed": false
   },
   "outputs": [
    {
     "data": {
      "text/plain": [
       "numpy.matrixlib.defmatrix.matrix"
      ]
     },
     "execution_count": 3,
     "metadata": {},
     "output_type": "execute_result"
    }
   ],
   "source": [
    "type(x.value)"
   ]
  },
  {
   "cell_type": "code",
   "execution_count": null,
   "metadata": {
    "collapsed": true
   },
   "outputs": [],
   "source": []
  }
 ],
 "metadata": {
  "kernelspec": {
   "display_name": "Python 3",
   "language": "python",
   "name": "python3"
  },
  "language_info": {
   "codemirror_mode": {
    "name": "ipython",
    "version": 3
   },
   "file_extension": ".py",
   "mimetype": "text/x-python",
   "name": "python",
   "nbconvert_exporter": "python",
   "pygments_lexer": "ipython3",
   "version": "3.6.0"
  }
 },
 "nbformat": 4,
 "nbformat_minor": 2
}
